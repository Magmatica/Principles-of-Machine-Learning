{
 "cells": [
  {
   "cell_type": "markdown",
   "metadata": {
    "colab_type": "text",
    "id": "view-in-github"
   },
   "source": [
    "<a href=\"https://colab.research.google.com/github/franklin-univ-data-science/comp411/blob/master/Module08_Report_Project.ipynb\" target=\"_parent\"><img src=\"https://colab.research.google.com/assets/colab-badge.svg\" alt=\"Open In Colab\"/></a>"
   ]
  },
  {
   "cell_type": "markdown",
   "metadata": {
    "id": "9_9COFW6s67_"
   },
   "source": [
    "# Research Report"
   ]
  },
  {
   "cell_type": "markdown",
   "metadata": {
    "id": "sBhkJ-gks68B"
   },
   "source": [
    "\n",
    "Explore an on-line published machine learning projects, based on what you have learned in this course, compose a research report at least including:\n",
    "\n",
    "1. What is the problem? \n",
    "2. What is the type of machine learning?\n",
    "3. What are the feature variables and target variables?\n",
    "4. What data preprocessing was used?\n",
    "5. How did the author explore the data?\n",
    "6. What machine learning algorithms were used?\n",
    "6. How the model's performance was evaluated?\n",
    "7. What is the conclusion? Is it reasonable?\n",
    "8. If you were the author, which part would you want to improve?\n",
    "\n",
    "\n",
    "Pick the following Kaggle project: \n",
    "\n",
    "- [Titanic Survival](https://www.kaggle.com/yassineghouzam/titanic-top-4-with-ensemble-modeling)\n",
    "\n",
    "**Due date:** March. 22\n",
    "\n"
   ]
  },
  {
   "cell_type": "markdown",
   "metadata": {},
   "source": [
    "1. When the titanic sank there was limited space within the lifeboats causing more people to die in the freezing waters. The Kaggle project looks at who survived the titanic and the traits that are shared between them to see the survival rate of the guests. The problem is to build a predictive model to determine who would survive.\n",
    "\n",
    "2. The type of machine learning used for this project is supervised learning as it deals with some missing data such as age and uses trees within the models.\n",
    "\n",
    "3. The feature variables include, passengerId, Pclass, name, sex, age, sibSp, parch, ticket, fare, cabin, and embark. The target variable is survived.\n",
    "\n",
    "4. The data preprocessing starts with finding the outliers within the data and dropping them, then the author joins the training and test sets. Next, is checking for null or missing values. After finding these values, they are filled in with NaN.\n",
    "\n",
    "5. The author uses a correlation matrix for the numerical values to see what categories affect survivability. After seeing that fare has a significant correlation to survival probability, the author goes in to each category to see if there the differences in each category affect the survival probability\n",
    "\n",
    "6. The machine learning algorithms used were forests with the random forest classifier, logistic regression, k neighbors, decision trees, and linear dicriminants.\n",
    "\n",
    "7. The author uses various types of modelling then uses the information gathered from each one to create a cross validation score to find the mean between them all.The cross-validation score is then compated to the training score.\n",
    "\n",
    "8. The conclusion is that there are four most important features that are used to predict the survival rate of a passenger, age, sex, family size, and social standing. This is reasonable as the person would need to be able to reach the deck fast in hopes of getting on one of the limited life boats. Younger people and women were more likely to get onto a boat as they wanted the women and children on the  boats first. The family size is understandable as a person with a lot of family would spend more time trying to find them and save them while a single person would only need to worry about themselves. The social standing makes sense as the more expensive cabins are higher and closer to the deck letting them get there faster.\n",
    "\n",
    "\n",
    "9. I would work on increasing the accuracy as the accuracy of each section can affect the overall answer and lead to inaccurate results.\n"
   ]
  }
 ],
 "metadata": {
  "anaconda-cloud": {},
  "colab": {
   "collapsed_sections": [],
   "include_colab_link": true,
   "name": "Module08_Report_Project.ipynb",
   "provenance": []
  },
  "kernelspec": {
   "display_name": "Python 3 (ipykernel)",
   "language": "python",
   "name": "python3"
  },
  "language_info": {
   "codemirror_mode": {
    "name": "ipython",
    "version": 3
   },
   "file_extension": ".py",
   "mimetype": "text/x-python",
   "name": "python",
   "nbconvert_exporter": "python",
   "pygments_lexer": "ipython3",
   "version": "3.9.7"
  },
  "toc": {
   "base_numbering": 1,
   "nav_menu": {},
   "number_sections": true,
   "sideBar": true,
   "skip_h1_title": false,
   "title_cell": "Table of Contents",
   "title_sidebar": "Contents",
   "toc_cell": false,
   "toc_position": {},
   "toc_section_display": true,
   "toc_window_display": false
  }
 },
 "nbformat": 4,
 "nbformat_minor": 1
}
