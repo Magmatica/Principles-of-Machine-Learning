{
 "cells": [
  {
   "cell_type": "markdown",
   "metadata": {
    "colab_type": "text",
    "id": "view-in-github"
   },
   "source": [
    "<a href=\"https://colab.research.google.com/github/franklin-univ-data-science/comp411/blob/master/Module02_HW.ipynb\" target=\"_parent\"><img src=\"https://colab.research.google.com/assets/colab-badge.svg\" alt=\"Open In Colab\"/></a>"
   ]
  },
  {
   "cell_type": "markdown",
   "metadata": {
    "id": "5HBT_V7mkoey"
   },
   "source": [
    "# Homework 2\n",
    "\n",
    "1. Explain features and targets.\n",
    "2. What is the difference between the supervised learning and unsupervised learning?\n",
    "3. What is the difference between the classification and regression? Define a specific classification problem and a regression problem that you may be interested in.\n",
    "4. Describe the roadmap of building a machine learning system.\n",
    "5. In the iris data set, explain what are $x^3$, $x_3$, and $x^3_3$?\n",
    "6. Let **w** and **x** be vectors, \n",
    "\n",
    "$$\n",
    "\\textbf{w} = \\begin{bmatrix}\n",
    "1 \\\\\n",
    "3 \\\\\n",
    "-1 \\\\\n",
    "\\end{bmatrix}\n",
    "$$\n",
    "\n",
    "$$\n",
    "\\textbf{x} = \\begin{bmatrix}\n",
    "2 \\\\\n",
    "3 \\\\\n",
    "4 \\\\\n",
    "\\end{bmatrix}\n",
    "$$\n",
    "\n",
    "What is $\\textbf{w}^{T}\\textbf{x}$? \n",
    "\n",
    "7. Using Numpy create and print **w** and **x** in #7; calculate the $\\textbf{w}^{T}\\textbf{x}$ to check your previous answer.\n",
    "1. In two to three paragraphs of prose (i.e. sentences, not bullet lists), summarize and interact with the content that was covered this week in readings and in class meeting. In your summary, you should highlight the major topics, methods, and practices that were covered. Your summary should also interact with the material through personal observations, reflections, and applications to the field of study. In particular, highlight what surprised, enlightened, or otherwise engaged you. In other words, you should think and write critically not just about what was presented but also what you have learned through the session. "
   ]
  },
  {
   "cell_type": "markdown",
   "metadata": {},
   "source": [
    "Features are the independent or explanatory variables that are used to show the attributes of their targets. Targets are the dependent or response variables which are labels that tell what the features are used for."
   ]
  },
  {
   "cell_type": "markdown",
   "metadata": {},
   "source": [
    "Supervised learning is when the machine is given a step by step instruction of how to complete the taks it is given. The supervised learning has labeled data, direct feedback, and can predict the outcome. Unsupervised learning are not given instructions to begin and has to determine how to interpret its given unlabeled data or the data from an unknown structure."
   ]
  },
  {
   "cell_type": "markdown",
   "metadata": {},
   "source": [
    "Classification is a structered learning subcategory which is used to predict the classes the data will be sorted into. An example of a classification problem would be if a person has collected data to represent the height of people in Ohio. Classification can help sort the data into gender such as men, women, and nonbinary. \n",
    "Regression is another type of supervised learning which focuses on estimating the relation between the input and output variables. It can be used for continuous outcome and find the line of regression which predicts where the data will fall in the future or around. Regression would be useful when trying to determine the outcome down the line. For example, a company starts by selling a new product, after a given time they collect the sales each day and graph the days and weeks. From here regression can help show the popularity of the product overtime using the line of regression. This will help them decide how long to keep the product and when a new one is likely needed."
   ]
  },
  {
   "cell_type": "markdown",
   "metadata": {},
   "source": [
    "The roadmap of building a machine learning system is the four main areas; preprocessing, learning, evaluation, and prediction. Preprocessing starts by taking the data and detmining the parts of the data use and any necessary information. Learning selects and algorithm to help see the patterns within the data. Evaluation will look over the model and determine how it will hold up to unseen data. Prediction will use the model to start predicting outcomes of future data."
   ]
  },
  {
   "cell_type": "markdown",
   "metadata": {},
   "source": [
    "The 𝑥^3 is used to show that x appears in the third row. The xv3 shows that x appears in the third column. The x with both 3 above and below shows that it is in the third row and third column."
   ]
  },
  {
   "cell_type": "markdown",
   "metadata": {},
   "source": [
    "w^t * x would look like [1 3 -1] * [2\n",
    "                                    3\n",
    "                                    4]\n",
    "                                    this would equal array([[7]])"
   ]
  },
  {
   "cell_type": "code",
   "execution_count": 7,
   "metadata": {},
   "outputs": [
    {
     "data": {
      "text/plain": [
       "array([[7]])"
      ]
     },
     "execution_count": 7,
     "metadata": {},
     "output_type": "execute_result"
    }
   ],
   "source": [
    "import numpy as np\n",
    "wlist = [[1],\n",
    "         [3],\n",
    "         [-1]]\n",
    "xlist = [[2],\n",
    "         [3],\n",
    "         [4]]\n",
    "w = np.array(wlist)\n",
    "x = np.array(xlist)\n",
    "wt = w.T\n",
    "wtx = wt @ x\n",
    "wtx"
   ]
  },
  {
   "cell_type": "markdown",
   "metadata": {},
   "source": [
    "This week we started on machine learning and matrices. Machine learning is split into three different learning categories based off of the specifics they are given. The supervised learning has labeled data and direct feedback, it acts similar as if a person was given a step by step list of instructions. The unsupervised learning does not have clear labels and feedback, this type of learning is used to organize data into smaller groups without loosing any relevant information. The reinforcement learning is used to improve as it goes. It is set as a way for the machine to learn through the interactions of its enviroment. The matrices are shown in this lecture as how they can be written in code or solved by hand. I tended to have trouble with applying math to a matrix but the lecture lays out the different parts in an easy to understand manner. Transposing the matrix which is rotating it 90 degrees clockwise then reversing it was one that I had to go over a couple of times to fully understand. The matrix can be transposed by using matrixname.T which leads me to the question are there other types of transpositions? For example, the T is used for the 90 degree clockwise turn, is there a simple way of making a 90 degree counterclockwise turn or would you have to work it out another way?"
   ]
  },
  {
   "cell_type": "code",
   "execution_count": null,
   "metadata": {},
   "outputs": [],
   "source": []
  }
 ],
 "metadata": {
  "colab": {
   "include_colab_link": true,
   "name": "Module02_HW.ipynb",
   "provenance": []
  },
  "kernelspec": {
   "display_name": "Python 3 (ipykernel)",
   "language": "python",
   "name": "python3"
  },
  "language_info": {
   "codemirror_mode": {
    "name": "ipython",
    "version": 3
   },
   "file_extension": ".py",
   "mimetype": "text/x-python",
   "name": "python",
   "nbconvert_exporter": "python",
   "pygments_lexer": "ipython3",
   "version": "3.9.7"
  },
  "toc": {
   "base_numbering": 1,
   "nav_menu": {},
   "number_sections": true,
   "sideBar": true,
   "skip_h1_title": false,
   "title_cell": "Table of Contents",
   "title_sidebar": "Contents",
   "toc_cell": false,
   "toc_position": {},
   "toc_section_display": true,
   "toc_window_display": false
  }
 },
 "nbformat": 4,
 "nbformat_minor": 4
}
