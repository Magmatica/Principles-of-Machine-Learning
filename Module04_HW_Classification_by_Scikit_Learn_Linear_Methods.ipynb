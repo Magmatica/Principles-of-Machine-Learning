{
 "cells": [
  {
   "cell_type": "markdown",
   "metadata": {
    "colab_type": "text",
    "id": "view-in-github"
   },
   "source": [
    "<a href=\"https://colab.research.google.com/github/franklin-univ-data-science/comp411/blob/master/Module04_HW.ipynb\" target=\"_parent\"><img src=\"https://colab.research.google.com/assets/colab-badge.svg\" alt=\"Open In Colab\"/></a>"
   ]
  },
  {
   "cell_type": "markdown",
   "metadata": {
    "id": "NtTxMnv6oC36"
   },
   "source": [
    "## Homework 4\n",
    "\n",
    "1. Why do we split samples into training and test set? What does the stratify mean?\n",
    "1. Explain what are the overfitting and regularization.\n",
    "1. Load last week's data set (fruit) and perceptron code, add the feature scaling and run the code again. Why is the convergence much more efficient? \n",
    "1. Load the scikit-learn's Wine recognition dataset; separate 20% data as test data set; predict the wine quality using logistic regression and support vector machine, and print the accuracy using test set. \n",
    "\n",
    "\n",
    "To load the data set:\n",
    "```python\n",
    "from sklearn import datasets\n",
    "import numpy as np\n",
    "\n",
    "df = datasets.load_wine()\n",
    "\n",
    "X = df.data\n",
    "y = df.target\n",
    "\n",
    "```\n",
    "\n",
    "You can check the targets and features by:\n",
    "```python\n",
    "print(df.target_names)\n",
    "print(df.feature_names)\n",
    "```\n",
    "\n",
    "To get more details of the wine data set:https://scikit-learn.org/stable/modules/generated/sklearn.datasets.load_wine.html\n",
    "\n",
    "5. In two to three paragraphs of prose (i.e. sentences, not bullet lists), summarize and interact with the content that was covered this week in readings and in class meeting. In your summary, you should highlight the major topics, methods, and practices that were covered. Your summary should also interact with the material through personal observations, reflections, and applications to the field of study. In particular, highlight what surprised, enlightened, or otherwise engaged you. In other words, you should think and write critically not just about what was presented but also what you have learned through the session.\n"
   ]
  },
  {
   "cell_type": "markdown",
   "metadata": {},
   "source": [
    "The samples are split into training and test sets to see how the model performs using unseen data. The samples start with running given data to help set it up but to make sure it is running properly, it is split to use the unseen data. Stratify means that the samples that have been split will return the training and test subsets that have the same proportions as the input dataset. This is used to compare the unseen data with the input dataset to see how it is running. "
   ]
  },
  {
   "cell_type": "markdown",
   "metadata": {},
   "source": [
    "Overfitting is when a model does well when it is given the training data but has trouble with the unseen data. Regulation is a method that is used to prevent overfitting. This method gives additional information that is used to penalize extreme parameter values."
   ]
  },
  {
   "cell_type": "code",
   "execution_count": 1,
   "metadata": {},
   "outputs": [
    {
     "data": {
      "image/png": "[encoded data removed]",
      "text/plain": [
       "<Figure size 432x288 with 1 Axes>"
      ]
     },
     "metadata": {
      "needs_background": "light"
     },
     "output_type": "display_data"
    },
    {
     "name": "stdout",
     "output_type": "stream",
     "text": [
      "Misclassified samples: 5\n"
     ]
    }
   ],
   "source": [
    "from sklearn import datasets\n",
    "from sklearn.model_selection import train_test_split\n",
    "import pandas as pd\n",
    "data = pd.read_csv('https://raw.githubusercontent.com/franklin-univ-data-science/data/master/fruit.csv')\n",
    "import matplotlib.pyplot as plt\n",
    "import numpy as np\n",
    "\n",
    "\n",
    "islemon= data.iloc[0:40, 0].values\n",
    "islemon = np.where(islemon == 'lemon', -1, 1)\n",
    "X = data.iloc[0:40, [1, 2]].values\n",
    "class Perceptron():\n",
    "    \n",
    "    def __init__(self, eta=0.01, n_iter=50, random_state=1):\n",
    "        self.eta = eta\n",
    "        self.n_iter = n_iter\n",
    "        self.random_state = random_state\n",
    "\n",
    "    def fit(self, X, islemon):\n",
    "        \n",
    "        rgen = np.random.RandomState(self.random_state)\n",
    "        self.w_ = rgen.normal(loc=0.0, scale=0.01, size= X.shape[1]) \n",
    "        self.errors_ = []\n",
    "\n",
    "        for _ in range(self.n_iter):\n",
    "            errors = 0\n",
    "            for xi, target in zip(X, islemon):\n",
    "                update = self.eta * (target - self.predict(xi))\n",
    "                self.w_ += update * xi\n",
    "                errors += int(update != 0.0)\n",
    "            self.errors_.append(errors)\n",
    "        return self\n",
    "\n",
    "    def net_input(self, X):\n",
    "        \n",
    "        return X @ self.w_\n",
    "    \n",
    "    def predict(self, X):\n",
    "       \n",
    "        return np.where(self.net_input(X) >= 0.0, 1, -1)\n",
    "\n",
    "m = islemon.size\n",
    "vector_ones = np.ones(m).reshape(m, 1)\n",
    "X1 = np.hstack([vector_ones, X])\n",
    "\n",
    "ppn = Perceptron(eta=0.1, n_iter=10000)\n",
    "\n",
    "ppn.fit(X1, islemon)\n",
    "\n",
    "plt.plot(range(1, ppn.n_iter + 1), ppn.errors_, marker='o')\n",
    "plt.xlabel('Epochs')\n",
    "plt.ylabel('Number of updates')\n",
    "\n",
    "plt.show()\n",
    "islemon_pred = ppn.predict(X1)\n",
    "\n",
    "print('Misclassified samples: %d' % (islemon != islemon_pred).sum())\n",
    "X_train, X_test, islemon_train, islemon_test = train_test_split(\n",
    "    X, islemon, test_size=0.5, random_state=1, stratify=islemon)\n",
    "from sklearn.preprocessing import StandardScaler\n",
    "\n",
    "sc = StandardScaler()\n",
    "sc.fit(X_train)\n",
    "X_train_std = sc.transform(X_train)\n",
    "X_test_std = sc.transform(X_test)\n",
    "\n",
    "\n"
   ]
  },
  {
   "cell_type": "markdown",
   "metadata": {},
   "source": [
    "The convergence is more efficient because the feature scaling helps with creatinga set boundary for the data making it faster."
   ]
  },
  {
   "cell_type": "code",
   "execution_count": 47,
   "metadata": {},
   "outputs": [
    {
     "name": "stdout",
     "output_type": "stream",
     "text": [
      "['class_0' 'class_1' 'class_2']\n",
      "['alcohol', 'malic_acid', 'ash', 'alcalinity_of_ash', 'magnesium', 'total_phenols', 'flavanoids', 'nonflavanoid_phenols', 'proanthocyanins', 'color_intensity', 'hue', 'od280/od315_of_diluted_wines', 'proline']\n",
      "Labels counts in y: [59 71 48]\n",
      "Labels counts in y_train: [47 57 38]\n",
      "Labels counts in y_test: [12 14 10]\n",
      "Accuracy: 0.97\n"
     ]
    }
   ],
   "source": [
    "from sklearn import datasets\n",
    "import numpy as np\n",
    "from sklearn.model_selection import train_test_split\n",
    "from sklearn.preprocessing import StandardScaler\n",
    "from sklearn.linear_model import Perceptron\n",
    "from sklearn.linear_model import LogisticRegression\n",
    "from sklearn.metrics import accuracy_score\n",
    "from sklearn.svm import SVC\n",
    "\n",
    "df = datasets.load_wine()\n",
    "X = df.data\n",
    "y = df.target\n",
    "print(df.target_names)\n",
    "print(df.feature_names)\n",
    "X_train, X_test, y_train, y_test = train_test_split(\n",
    "    X, y, test_size=0.2, random_state=1, stratify=y)\n",
    "print('Labels counts in y:', np.bincount(y))\n",
    "print('Labels counts in y_train:', np.bincount(y_train))\n",
    "print('Labels counts in y_test:', np.bincount(y_test))\n",
    "sc = StandardScaler()\n",
    "sc.fit(X_train)\n",
    "X_train_std = sc.transform(X_train)\n",
    "X_test_std = sc.transform(X_test)\n",
    "lr = LogisticRegression(random_state=1, solver='liblinear', multi_class='auto')\n",
    "lr.fit(X_train_std, y_train)\n",
    "\n",
    "svm = SVC(kernel='linear', C=1, random_state=1)\n",
    "svm.fit(X_train_std, y_train)\n",
    "print('Accuracy: %.2f' % accuracy_score(y_test, y_pred))"
   ]
  },
  {
   "cell_type": "markdown",
   "metadata": {},
   "source": [
    "    This week we started working with scikit and splitting data. We took the lesson on setting up the data from last week and expanded by using the training and test data sets. These data sets are used to determine if the model can work with unknown data as well as it does known data. This is very useful as there is always the chance that the model would work perfectly with given data but not be able to understand how to work with the unknown. The perceptron that we started last week has been expanded with the accuracy method being added to help with the misclassification error. Then we started on logistic regression which is used to find the probability of the predictions. "
   ]
  }
 ],
 "metadata": {
  "colab": {
   "collapsed_sections": [],
   "include_colab_link": true,
   "name": "Module04_HW.ipynb",
   "provenance": []
  },
  "kernelspec": {
   "display_name": "Python 3 (ipykernel)",
   "language": "python",
   "name": "python3"
  },
  "language_info": {
   "codemirror_mode": {
    "name": "ipython",
    "version": 3
   },
   "file_extension": ".py",
   "mimetype": "text/x-python",
   "name": "python",
   "nbconvert_exporter": "python",
   "pygments_lexer": "ipython3",
   "version": "3.9.7"
  }
 },
 "nbformat": 4,
 "nbformat_minor": 1
}
